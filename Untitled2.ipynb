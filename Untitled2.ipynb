{
 "cells": [
  {
   "cell_type": "code",
   "execution_count": 30,
   "id": "430f1d9b",
   "metadata": {},
   "outputs": [],
   "source": [
    "import torchtext\n",
    "import torch\n",
    "import torchdata\n",
    "import warnings\n",
    "from torchtext.data.utils import get_tokenizer#分词工具\n",
    "from torchtext.vocab import build_vocab_from_iterator#创建词表工具\n",
    "from torchtext.data.functional import to_map_style_dataset #制作数据集\n",
    "from torch.utils.data import DataLoader\n",
    "from torch import nn\n",
    "from torch.optim import lr_scheduler\n",
    "warnings.filterwarnings('ignore')"
   ]
  },
  {
   "cell_type": "code",
   "execution_count": 14,
   "id": "93bcac65",
   "metadata": {},
   "outputs": [],
   "source": [
    "test_iter,train_iter = torchtext.datasets.IMDB(root=\"./data\",split=('train','test'))"
   ]
  },
  {
   "cell_type": "code",
   "execution_count": 15,
   "id": "54fc47b4",
   "metadata": {},
   "outputs": [],
   "source": [
    "unique_labels = set([label for (label,text) in train_iter])\n",
    "num_class = len(unique_labels)"
   ]
  },
  {
   "cell_type": "code",
   "execution_count": 16,
   "id": "552971cd",
   "metadata": {},
   "outputs": [
    {
     "data": {
      "text/plain": [
       "['this', 'is', '!', '!', 'beautiful', 'world', '.']"
      ]
     },
     "execution_count": 16,
     "metadata": {},
     "output_type": "execute_result"
    }
   ],
   "source": [
    "#分词\n",
    "tokenizer = get_tokenizer('basic_english')\n",
    "tokenizer('THis is !! Beautiful World.')"
   ]
  },
  {
   "cell_type": "code",
   "execution_count": 17,
   "id": "2a44cd07",
   "metadata": {},
   "outputs": [],
   "source": [
    "#定义生成器，返回分词后文本\n",
    "def yield_tokens(data):\n",
    "    for _,text in data:\n",
    "        yield tokenizer(text)"
   ]
  },
  {
   "cell_type": "code",
   "execution_count": 18,
   "id": "e6a36d33",
   "metadata": {},
   "outputs": [],
   "source": [
    "#创建词表\n",
    "vocab = build_vocab_from_iterator(\n",
    "    yield_tokens(train_iter),\n",
    "    specials=['<pad>','<unk>'],\n",
    "    min_freq=5,\n",
    ")"
   ]
  },
  {
   "cell_type": "code",
   "execution_count": 19,
   "id": "a0cfb0e8",
   "metadata": {},
   "outputs": [],
   "source": [
    "vocab.set_default_index(vocab['<unk>'])"
   ]
  },
  {
   "cell_type": "code",
   "execution_count": 20,
   "id": "647e252c",
   "metadata": {},
   "outputs": [],
   "source": [
    "#构建数据集Dataloader\n",
    "train_dataset = to_map_style_dataset(train_iter)\n",
    "test_dataset = to_map_style_dataset(test_iter)"
   ]
  },
  {
   "cell_type": "code",
   "execution_count": 23,
   "id": "b20c369a",
   "metadata": {},
   "outputs": [],
   "source": [
    "text_pipline = lambda x:vocab(tokenizer(x))\n",
    "# 批数据处理\n",
    "def collate_batch(batch):\n",
    "    label_list,text_list,offsets = [],[],[0]\n",
    "    for (_label,_text) in batch:\n",
    "        precess_text = torch.tensor(text_pipline(_text),dtype=torch.int64)\n",
    "        label_list.append(_label)\n",
    "        text_list.append(precess_text)\n",
    "        offsets.append(precess_text.size(0))\n",
    "    label_list = torch.tensor(label_list)\n",
    "    text_list = torch.cat(text_list)\n",
    "    offsets = torch.tensor(offsets[:-1]).cumsum(dim=0)\n",
    "    return label_list,text_list,offsets\n"
   ]
  },
  {
   "cell_type": "code",
   "execution_count": 24,
   "id": "bb274959",
   "metadata": {},
   "outputs": [],
   "source": [
    "BATCHSIZE =64\n",
    "train_dataloader = DataLoader(\n",
    "    train_dataset,\n",
    "    batch_size = BATCHSIZE,\n",
    "    shuffle=True,\n",
    "    collate_fn=collate_batch\n",
    ")\n",
    "\n",
    "test_dataloader = DataLoader(\n",
    "    test_dataset,\n",
    "    batch_size = BATCHSIZE,\n",
    "    shuffle=True,\n",
    "    collate_fn=collate_batch\n",
    ")"
   ]
  },
  {
   "cell_type": "code",
   "execution_count": 32,
   "id": "5b8722af",
   "metadata": {},
   "outputs": [],
   "source": [
    "vocab_size = len(vocab)#获取词表大小\n",
    "embedding_dim =100\n",
    "class TextClassificationModel(nn.Module):\n",
    "    def __init__(self,vocab_size,embed_dim,num_class):\n",
    "        super(TextClassificationModel,self).__init__()\n",
    "        self.embedding = nn.EmbeddingBag(vocab_size,embed_dim,sparse=True)\n",
    "        \n",
    "        self.fc = nn.Linear(embed_dim,num_class)\n",
    "        self.init_weights()\n",
    "    def init_weights(self):\n",
    "        initrange = 0.5\n",
    "        self.embedding.weight.data.uniform_(-initrange,initrange)\n",
    "        self.fc.weight.data.uniform_(-initrange,initrange)\n",
    "        self.fc.bias.data.zero_()\n",
    "    def forward(self,text,offsets):\n",
    "        embedded = self.embedding(text,offsets)\n",
    "        return self.fc(embedded)"
   ]
  },
  {
   "cell_type": "code",
   "execution_count": 33,
   "id": "9568eec9",
   "metadata": {},
   "outputs": [],
   "source": [
    "model = TextClassificationModel(vocab_size,embedding_dim,num_class)\n",
    "loss_fn = nn.CrossEntropyLoss()#分类问题损失函数\n",
    "optimizer = torch.optim.SGD(model.parameters(),lr=0.1)\n",
    "exp_lr = lr_scheduler.StepLR(optimizer,step_size=20,gamma=0.1)"
   ]
  },
  {
   "cell_type": "code",
   "execution_count": 35,
   "id": "787928cf",
   "metadata": {},
   "outputs": [],
   "source": [
    "def train(dataloader):\n",
    "    total_acc,total_count,total_loss = 0,0,0\n",
    "    model.train()\n",
    "    for label,text,offsets in dataloader:\n",
    "        predicted_label = model(text,offsets)\n",
    "        loss = loss_fn(predicted_label,label)\n",
    "        \n",
    "        #反向传播\n",
    "        optimizer.zero_grad()\n",
    "        loss.backward()\n",
    "        optimizer.step()\n",
    "        \n",
    "        #记录器\n",
    "        with torch.no_grad():\n",
    "            total_acc += (predicted_label.argmax(1))"
   ]
  },
  {
   "cell_type": "code",
   "execution_count": null,
   "id": "22e439b6",
   "metadata": {},
   "outputs": [],
   "source": []
  }
 ],
 "metadata": {
  "kernelspec": {
   "display_name": "Python 3 (ipykernel)",
   "language": "python",
   "name": "python3"
  },
  "language_info": {
   "codemirror_mode": {
    "name": "ipython",
    "version": 3
   },
   "file_extension": ".py",
   "mimetype": "text/x-python",
   "name": "python",
   "nbconvert_exporter": "python",
   "pygments_lexer": "ipython3",
   "version": "3.9.13"
  }
 },
 "nbformat": 4,
 "nbformat_minor": 5
}
